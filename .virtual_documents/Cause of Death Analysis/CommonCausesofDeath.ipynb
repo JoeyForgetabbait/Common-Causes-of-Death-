


#import dependencies 
import pandas as pd
from pathlib import Path
import numpy as np
import matplotlib.pyplot as plt
import scipy.stats as st
from scipy.stats import linregress
import seaborn as sns



#paths to csv data
Cause_df = 'Resources/cause_of_deaths.csv'
Aid_df = 'Resources/us_foreign_aid_country.csv'
pop_data_path="Resources/popdata.csv"

#reading csv data and creating dataframes out of it
Cause_df = pd.read_csv(Cause_df)
Aid_df = pd.read_csv(Aid_df)
pop_data_df=pd.read_csv(pop_data_path)
#changing year from int to str for merging
Cause_df['Year'] = Cause_df['Year'].astype(str)
pop_data_df['Year'] =pop_data_df['Year'].astype(str)
#rename columns for merge 
Aid_df = Aid_df.rename(columns = {'Country Code' : 'Code',
                                 'Fiscal Year' : 'Year',
                                 'Country Name' : 'Country/Territory',
                                 'current_amount':'Current Amount of Aid Given by US ($USD)',
                                  'constant_amount':'Constant Amount of Aid Given by US ($USD)',
                                 'Income Group Name':'Country Income Category'})

#obligation only transactoin type
Aid_df=Aid_df.loc[(Aid_df['Transaction Type Name']== 'Obligations')]

#Filtering aid_df
Aid_df=Aid_df[['Year','Country/Territory','Code','Country Income Category','Current Amount of Aid Given by US ($USD)','Constant Amount of Aid Given by US ($USD)']]


#merging
cause_pop_df=Cause_df.merge(pop_data_df,on=['Code','Year'])
Cause_aid_df = Cause_df.merge(Aid_df, on = ['Code', 'Year', 'Country/Territory'])

Cause_aid_df.head()
cause_aid_pop_df=Cause_aid_df.merge(pop_data_df,on=['Code','Year'])

cause_pop_df.to_csv('Resources/cause_pop.csv')
cause_aid_pop_df.to_csv('Resources/cause_aid_pop.csv')
cause_aid_pop_df






cause_aid_pop_df.columns


#looking for most and least deadly from 1990-2019
top_deaths_df=cause_aid_pop_df[['Meningitis',
       "Alzheimer's Disease and Other Dementias", "Parkinson's Disease",
       'Nutritional Deficiencies', 'Malaria', 'Drowning',
       'Interpersonal Violence', 'Maternal Disorders', 'HIV/AIDS',
       'Drug Use Disorders', 'Tuberculosis', 'Cardiovascular Diseases',
       'Lower Respiratory Infections', 'Neonatal Disorders',
       'Alcohol Use Disorders', 'Self-harm', 'Exposure to Forces of Nature',
       'Diarrheal Diseases', 'Environmental Heat and Cold Exposure',
       'Neoplasms', 'Conflict and Terrorism', 'Diabetes Mellitus',
       'Chronic Kidney Disease', 'Poisonings', 'Protein-Energy Malnutrition',
       'Road Injuries', 'Chronic Respiratory Diseases',
       'Cirrhosis and Other Chronic Liver Diseases', 'Digestive Diseases',
       'Fire, Heat, and Hot Substances', 'Acute Hepatitis']].sum()

top_deaths_df=top_deaths_df.sort_values(ascending=False)
top_deaths_df.head()
top_deaths=top_deaths_df[:5]
display(top_deaths)
top_deaths.index


top_deaths.plot.pie()


top_deaths.plot.bar()
plt.ylabel('# of Deaths')
#https://www.reddit.com/r/learnpython/comments/el4vbx/how_to_remove_scientific_notation_from_a/
plt.gcf().axes[0].yaxis.get_major_formatter().set_scientific(False)
plt.show()


#least deadly causes of death 1990-2019
least_deaths_df=top_deaths_df.sort_values()
least_deaths_df.head()
least_deaths=least_deaths_df[:5]
display(least_deaths)
least_deaths.index



least_deaths.plot.pie()


least_deaths.plot.bar()
plt.ylabel('# of Deaths')
#https://www.reddit.com/r/learnpython/comments/el4vbx/how_to_remove_scientific_notation_from_a/
plt.gcf().axes[0].yaxis.get_major_formatter().set_scientific(False)
plt.show()


#top deaths per country
top_death_country=cause_aid_pop_df.groupby(['Code'])[['Cardiovascular Diseases', 'Neoplasms', 'Neonatal Disorders',
       'Lower Respiratory Infections', 'Diarrheal Diseases']].sum()
display(top_death_country)


#top deaths per country by year
top_death_country_year=cause_aid_pop_df.groupby(['Code','Year'])[['Cardiovascular Diseases', 'Neoplasms', 'Neonatal Disorders',
       'Lower Respiratory Infections', 'Diarrheal Diseases']].sum()
top_death_country_year


#bottom deaths per country 
bottom_death_country=cause_aid_pop_df.groupby(['Code'])[['Exposure to Forces of Nature', 'Environmental Heat and Cold Exposure',
       'Poisonings', 'Drug Use Disorders', 'Conflict and Terrorism']].sum()
display(bottom_death_country)


#bottom deaths per country by year
bottom_death_country_year=cause_aid_pop_df.groupby(['Code','Year'])[['Exposure to Forces of Nature', 'Environmental Heat and Cold Exposure',
       'Poisonings', 'Drug Use Disorders', 'Conflict and Terrorism']].sum()
bottom_death_country_year


#making a df for deaths per capita 
per_capita_death_df=cause_pop_df[['Code','Year','Meningitis',
       "Alzheimer's Disease and Other Dementias", "Parkinson's Disease",
       'Nutritional Deficiencies', 'Malaria', 'Drowning',
       'Interpersonal Violence', 'Maternal Disorders', 'HIV/AIDS',
       'Drug Use Disorders', 'Tuberculosis', 'Cardiovascular Diseases',
       'Lower Respiratory Infections', 'Neonatal Disorders',
       'Alcohol Use Disorders', 'Self-harm', 'Exposure to Forces of Nature',
       'Diarrheal Diseases', 'Environmental Heat and Cold Exposure',
       'Neoplasms', 'Conflict and Terrorism', 'Diabetes Mellitus',
       'Chronic Kidney Disease', 'Poisonings', 'Protein-Energy Malnutrition',
       'Road Injuries', 'Chronic Respiratory Diseases',
       'Cirrhosis and Other Chronic Liver Diseases', 'Digestive Diseases',
       'Fire, Heat, and Hot Substances', 'Acute Hepatitis','Population']].set_index("Code")

#need to itterate over the columns and divide each death column by the population i would assume its some sort of for loop
# per_capita_death_df['Meningitis Death per Capita']=per_capita_death_df['Meningitis']/per_capita_death_df['Population']
display(per_capita_death_df)



#for a per captia population by aid correlation. 

percapita_aid_pop_df=cause_aid_pop_df[['Code','Population','Current Amount of Aid Given by US ($USD)']].set_index("Code")

#need to itterate over the columns and divide each death column by the population i would assume its some sort of for loop
# per_capita_death_df['Meningitis Death per Capita']=per_capita_death_df['Meningitis']/per_capita_death_df['Population']
#display(per_capita_death_df)

#adding columns for death per capita for each cause of death and the data in those new columns
clm_list=percapita_aid_pop_df.columns.values
for column in clm_list[1:(len(clm_list)-1)]:
    percapita_aid_pop_df[f'{column} Current Amount of Aid Given by US ($USD)']=percapita_aid_pop_df[column]/percapita_aid_pop_df['Population']*100

percapita_aid_pop_df.columns



#adding columns for death per capita for each cause of death and the data in those new columns
column_list=per_capita_death_df.columns.values
for column in column_list[1:(len(column_list)-1)]:
    per_capita_death_df[f'{column} Death per Capita']=per_capita_death_df[column]/per_capita_death_df['Population']*100




per_capita_death_df.columns


#create a new df with just death per capita stats
death_per_capita_list=['Year','Meningitis Death per Capita',
       "Alzheimer's Disease and Other Dementias Death per Capita",
       "Parkinson's Disease Death per Capita",
       'Nutritional Deficiencies Death per Capita', 'Malaria Death per Capita',
       'Drowning Death per Capita', 'Interpersonal Violence Death per Capita',
       'Maternal Disorders Death per Capita', 'HIV/AIDS Death per Capita',
       'Drug Use Disorders Death per Capita', 'Tuberculosis Death per Capita',
       'Cardiovascular Diseases Death per Capita',
       'Lower Respiratory Infections Death per Capita',
       'Neonatal Disorders Death per Capita',
       'Alcohol Use Disorders Death per Capita', 'Self-harm Death per Capita',
       'Exposure to Forces of Nature Death per Capita',
       'Diarrheal Diseases Death per Capita',
       'Environmental Heat and Cold Exposure Death per Capita',
       'Neoplasms Death per Capita', 'Conflict and Terrorism Death per Capita',
       'Diabetes Mellitus Death per Capita',
       'Chronic Kidney Disease Death per Capita',
       'Poisonings Death per Capita',
       'Protein-Energy Malnutrition Death per Capita',
       'Road Injuries Death per Capita',
       'Chronic Respiratory Diseases Death per Capita',
       'Cirrhosis and Other Chronic Liver Diseases Death per Capita',
       'Digestive Diseases Death per Capita',
       'Fire, Heat, and Hot Substances Death per Capita',
       'Acute Hepatitis Death per Capita','Population']
death_per_capita_df=per_capita_death_df[death_per_capita_list]
death_per_capita_df



#function to find top deaths of slected country
top_deaths=['Year','Cardiovascular Diseases Death per Capita', 'Neoplasms Death per Capita', 'Neonatal Disorders Death per Capita',
       'Lower Respiratory Infections Death per Capita', 'Diarrheal Diseases Death per Capita']
def top_death_of_country (code):
    top=death_per_capita_df.loc[(death_per_capita_df.index.values==code)]
    return top[top_deaths]


#function to find bottom deaths of slected country
bottom_deaths=['Year','Exposure to Forces of Nature Death per Capita', 'Environmental Heat and Cold Exposure Death per Capita',
       'Poisonings Death per Capita', 'Drug Use Disorders Death per Capita', 'Conflict and Terrorism Death per Capita']
def bottom_death_of_country (code):
    bottom =death_per_capita_df.loc[(death_per_capita_df.index.values==code)]
    return bottom[bottom_deaths]





afg_death=death_per_capita_df.loc[(death_per_capita_df.index.values=='AFG')]
afg_death.head()





#plot of the top 5 causes of death from 1990-2019 looking at it per capita this time in AFG
afg_death_top=top_death_of_country('AFG')
afg_death_top.plot(x='Year',title='Top 5 Causes of Death in AFG').legend(fontsize=6, loc="best")
plt.show()


#plot of the bottom 5 causes of death from 1990-2019 looking at it per capita this time in AFG

afg_death_bottom=bottom_death_of_country('AFG')



afg_death_bottom.plot(x='Year',title='Bottom 5 Causes of Death in AFG').legend(fontsize=6, loc="best")
plt.show()
                  


                           
                           


usa_death_top=top_death_of_country('USA')
usa_death_top=usa_death_top.sort_values('Year')



nigeria_death_top = top_death_of_country('NGA')
nigeria_death_top=nigeria_death_top.sort_values('Year')
nigeria_death_top.plot(x='Year',title='Top 5 Causes of Death in Nigeria').legend(fontsize=6, loc="best")
plt.show()


nigeria_death_bottom = bottom_death_of_country('NGA')
nigeria_death_bottom=nigeria_death_bottom.sort_values('Year')
nigeria_death_bottom.plot(x='Year',title='Bottom 5 Causes of Death in Nigeria').legend(fontsize=6, loc="best")
plt.show()


japan_death_top = top_death_of_country('JPN')
japan_death_top=japan_death_top.sort_values('Year')
japan_death_top.plot(x='Year',title='Top 5 Causes of Death in Japan').legend(fontsize=6, loc="best")
plt.show()


japan_death_bottom = bottom_death_of_country('JPN')
japan_death_bottom=japan_death_bottom.sort_values('Year')
japan_death_bottom.plot(x='Year',title='Bottom 5 Causes of Death in Japan').legend(fontsize=6, loc="best")
plt.show()


popbyaid_df = cause_aid_pop_df.loc[cause_aid_pop_df['Code'] != 'USA']
popbyaid_df = popbyaid_df[['Code','Population', 'Current Amount of Aid Given by US ($USD)']]
popbyaid_df


#make Population by Aid correlation internationally 

#afg_top_5_cor = popbyaid_df[['Year', 'Neoplasms Death per Capita', 'Diarrheal Diseases Death per Capita']]
results_list=st.linregress(popbyaid_df['Current Amount of Aid Given by US ($USD)'],popbyaid_df['Population'])
slope=results_list[0]
intercept=results_list[1]
r_value=round(results_list[2],2)
x=popbyaid_df['Current Amount of Aid Given by US ($USD)']
y_pred=slope*np.array(x)+intercept
popbyaid_df.plot.scatter(['Current Amount of Aid Given by US ($USD)'],['Population'],xlabel='Current Amount of Aid Given by US ($USD)',ylabel='Population' ,title= 'Population by Aid Internationally Correlation',marker="v", c="green", edgecolors="black", alpha=1.0)
line_eq = "y = " + str(round(slope,2)) + "x + " + str(round(intercept,2))
plt.plot(x, y_pred, color = 'red')
plt.annotate(line_eq, (.09, .02), fontsize=12,color="red")


model = st.linregress(popbyaid_df["Current Amount of Aid Given by US ($USD)"],popbyaid_df["Population"])
y_values = popbyaid_df["Current Amount of Aid Given by US ($USD)"]*model[0] + model[1]
plt.plot(x, y_values,color='red')

correlation= st.pearsonr(popbyaid_df["Current Amount of Aid Given by US ($USD)"], popbyaid_df["Population"])
print(f"The correlation between current Aid and population internationally is {round(correlation[0],2)}")

# print(x)
#plt.title('Neoplam and Diarrheal Deaths in Afghanistan Correlation')



incomebyaid_df['Country Income Category'].value_counts()


countrycat = ['Low Income Country', 'Lower Middle Income Country', 'Upper Middle Income Country', 'High Income Country', np.nan]

print(pd.get_dummies(countrycat, dummy_na=True))


incomebyaid_df = cause_aid_pop_df.loc[cause_aid_pop_df['Code'] != 'USA']
incomebyaid_df = incomebyaid_df[['Year','Code', 'Country Income Category', 'Current Amount of Aid Given by US ($USD)']]
incomebyaid_df


plot = sns.scatterplot(data=incomebyaid_df, x='Year', y='Current Amount of Aid Given by US ($USD)', hue='Country Income Category')
plt.setp(plot.get_xticklabels(), rotation=90)
plt.title('Current Amount of US Aid by Foregin Country Income Category')
#incomebyaid_df.plot.bar('Country Income Category', 'Current Amount of Aid Given by US ($USD)')



afg_top_5_cor = afg_death_top[['Year', 'Neoplasms Death per Capita', 'Diarrheal Diseases Death per Capita']]
results_list=st.linregress(afg_top_5_cor['Neoplasms Death per Capita'],afg_top_5_cor['Diarrheal Diseases Death per Capita'])
slope=results_list[0]
intercept=results_list[1]
r_value=round(results_list[2],2)
x=afg_top_5_cor['Neoplasms Death per Capita']
y_pred=slope*np.array(x)+intercept
afg_top_5_cor.plot.scatter(['Neoplasms Death per Capita'],['Diarrheal Diseases Death per Capita'],xlabel='Neoplasms Death per Capita',ylabel='Diarrheal Diseases Death per Capita' ,title= 'Neoplasms and Diarrheal Deaths in Afghanistan Correlation' ,color='blue')
line_eq = "y = " + str(round(slope,2)) + "x + " + str(round(intercept,2))
plt.plot(x, y_pred, color = 'red')
plt.annotate(line_eq, (.09, .02), fontsize=12,color="red")


model = st.linregress(afg_top_5_cor["Neoplasms Death per Capita"],afg_top_5_cor["Diarrheal Diseases Death per Capita"])
y_values = afg_top_5_cor["Neoplasms Death per Capita"]*model[0] + model[1]
plt.plot(x, y_values,color='red')

correlation1= st.pearsonr(afg_top_5_cor["Neoplasms Death per Capita"], afg_top_5_cor["Diarrheal Diseases Death per Capita"])
print(f"The correlation between Neoplasm and Diarrheal Deaths in Afghanistan is {round(correlation1[0],2)}")

# print(x)
#plt.title('Neoplam and Diarrheal Deaths in Afghanistan Correlation')



#USA top death correlation 
#usa_death=death_per_capita_df.loc[(death_per_capita_df.index.values=='USA')]
#usa_death.head()

usa_death_top=top_death_of_country('USA')
#usa_death_top

usa_top_5_cor = usa_death_top[['Year', 'Neoplasms Death per Capita', 'Cardiovascular Diseases Death per Capita']]
results_list=st.linregress(usa_top_5_cor['Neoplasms Death per Capita'],usa_top_5_cor['Cardiovascular Diseases Death per Capita'])
slope=results_list[0]
intercept=results_list[1]
r_value=round(results_list[2],2)
x=usa_top_5_cor['Neoplasms Death per Capita']
y_pred=slope*np.array(x)+intercept
usa_top_5_cor.plot.scatter(['Neoplasms Death per Capita'],['Cardiovascular Diseases Death per Capita'],xlabel='Neoplasms Death per Capita',ylabel='Cardiovascular Diseases Death per Capita' ,title= 'Neoplasms and Cardiovascular Deaths in United States Correlation' ,color='blue')
line_eq = "y = " + str(round(slope,2)) + "x + " + str(round(intercept,2))
plt.plot(x, y_pred, color = 'red')
plt.annotate(line_eq, (.09, .02), fontsize=12,color="red")


model = st.linregress(usa_top_5_cor["Neoplasms Death per Capita"],usa_top_5_cor["Cardiovascular Diseases Death per Capita"])
y_values = usa_top_5_cor["Neoplasms Death per Capita"]*model[0] + model[1]
plt.plot(x, y_values,color='red')

correlation2= st.pearsonr(usa_top_5_cor["Neoplasms Death per Capita"], usa_top_5_cor["Cardiovascular Diseases Death per Capita"])
print(f"The correlation between Neoplasm and Cardio Vascular Deaths in America is {round(correlation2[0],2)}")

#print(x)
#plt.title('Neoplam and Diarrheal Deaths in Afghanistan Correlation')



# top death correlation Japan 

jpn_death_top=top_death_of_country('JPN')
#usa_death_top

jpn_death_cor = jpn_death_top[['Year', 'Neoplasms Death per Capita', 'Cardiovascular Diseases Death per Capita']]
results_list=st.linregress(jpn_death_cor['Neoplasms Death per Capita'],jpn_death_cor['Cardiovascular Diseases Death per Capita'])
slope=results_list[0]
intercept=results_list[1]
r_value=round(results_list[2],2)
x=jpn_death_cor['Neoplasms Death per Capita']
y_pred=slope*np.array(x)+intercept
jpn_death_cor.plot.scatter(['Neoplasms Death per Capita'],['Cardiovascular Diseases Death per Capita'],xlabel='Neoplasms Death per Capita',ylabel='Cardiovascular Diseases Death per Capita' ,title= 'Neoplasms and Cardiovascular Deaths in Japan Correlation' ,color='blue')
line_eq = "y = " + str(round(slope,2)) + "x + " + str(round(intercept,2))
plt.plot(x, y_pred, color = 'red')
plt.annotate(line_eq, (.09, .02), fontsize=12,color="red")


model = st.linregress(jpn_death_cor["Neoplasms Death per Capita"],jpn_death_cor["Cardiovascular Diseases Death per Capita"])
y_values = jpn_death_cor["Neoplasms Death per Capita"]*model[0] + model[1]
plt.plot(x, y_values,color='red')

correlation3= st.pearsonr(jpn_death_cor["Neoplasms Death per Capita"], jpn_death_cor["Cardiovascular Diseases Death per Capita"])
print(f"The correlation between Neoplasm and Cardio Vascular Deaths in America is {round(correlation3[0],2)}")

#print(x)
#plt.title('Neoplam and Diarrheal Deaths in Afghanistan Correlation')



# top death correlation Japan 

nga_death_top=top_death_of_country('NGA')
#usa_death_top

nga_death_cor = nga_death_top[['Year', 'Neonatal Disorders Death per Capita', 'Lower Respiratory Infections Death per Capita']]
results_list=st.linregress(nga_death_cor['Neonatal Disorders Death per Capita'],nga_death_cor['Lower Respiratory Infections Death per Capita'])
slope=results_list[0]
intercept=results_list[1]
r_value=round(results_list[2],2)
x=nga_death_cor['Neonatal Disorders Death per Capita']
y_pred=slope*np.array(x)+intercept
nga_death_cor.plot.scatter(['Neonatal Disorders Death per Capita'],['Lower Respiratory Infections Death per Capita'],xlabel='Neonatal Disorders Death per Capita',ylabel='Lower Respiratory Infections Death per Capita' ,title= 'Neonatal and Lower Resiratory Infection Deaths in Nigeria Correlation' ,color='blue')
line_eq1 = "y = " + str(round(slope,2)) + "x + " + str(round(intercept,2))
plt.plot(x, y_pred, color = 'red')
plt.annotate(line_eq1, (.09, .02), fontsize=12,color="red")


model1 = st.linregress(nga_death_cor["Neonatal Disorders Death per Capita"],nga_death_cor["Lower Respiratory Infections Death per Capita"])
y_values = nga_death_cor["Neonatal Disorders Death per Capita"]*model1[0] + model1[1]
plt.plot(x, y_values,color='red')

correlation4= st.pearsonr(nga_death_cor["Neonatal Disorders Death per Capita"], nga_death_cor["Lower Respiratory Infections Death per Capita"])
print(f"The correlation between Neonatal and Lower Respiratory Infection Deaths in Nigeria is {round(correlation4[0],2)}")

#print(x)
#plt.title('Neoplam and Diarrheal Deaths in Afghanistan Correlation')



#plot of the top 5 causes of death from 1990-2019 looking at it per capita this time in USA
usa_death_top.plot(x='Year',title='Top 5 Causes of Death in USA').legend(fontsize=6, loc="best")
plt.show()


#plot of the bottom 5 causes of death from 1990-2019 looking at it per capita this time in USA
bottom_usa=bottom_death_of_country('USA')
bottom_usa.sort_values('Year',inplace=True)
bottom_usa.plot(x='Year',title='Bottom 5 Causes of Death in USA').legend(fontsize=6, loc="best")
plt.show()


#plot of the top 5 causes of death from 1990-2019 looking at it per capita this time in AUT
top_aut=top_death_of_country('AUT')
top_aut.plot(x='Year',title='Top 5 Causes of Death in AUT').legend(fontsize=6, loc="best")
plt.show()


#plot of the bottom 5 causes of death from 1990-2019 looking at it per capita this time in AUT
bottom_aut=bottom_death_of_country('AUT')
bottom_aut.plot(x='Year',title='Bottom 5 Causes of Death in AUT').legend(fontsize=6, loc="best")
plt.show()



# Questions to Answer:
# What are the most common causes of death internationally? - look at least common causes too, just to see if we can make any inferences from that. 
# Death totals(most / least common) - normalize it to the population
# Line plot for time vs cause of death amount in certain # of nations
# Look at the US vs other places specifically, too.
# Compare the US to other countries
# Histogram to scale most prevalent causes of death 
# Box plot looking at variance 





# Where are those most common causes occurring (maybe just look at a few?)
# Geoapify graph?
# Most comm
#  Bar plot, 




 
# How does a certain disease/cause of death trend year over year?
# Line graph
# Scatter plot for various correlations regarding C.O.D. by year, decade, in x# of nations.. 


#What outside events may have influenced those causes of death?
# Availability of aid?
# Medical resources
# Water-related illness
# Geoapify map (malaria is easy to show geographical differences)
# Geoapify map for the amount of aid provided to the nations with the unique causes of death that may have been mitigated by aid 

import hvplot.pandas
import pandas as pd
import geoviews as gv
import geoviews.tile_sources as gvts
import geopandas as gpd

countries_info = pd.read_csv('Resources/countries.csv')

country_totals = (cause_aid_pop_df.groupby(['Country/Territory'])[['Meningitis',
       "Alzheimer's Disease and Other Dementias", "Parkinson's Disease",
       'Nutritional Deficiencies', 'Malaria', 'Drowning',
       'Interpersonal Violence', 'Maternal Disorders', 'HIV/AIDS',
       'Drug Use Disorders', 'Tuberculosis', 'Cardiovascular Diseases',
       'Lower Respiratory Infections', 'Neonatal Disorders',
       'Alcohol Use Disorders', 'Self-harm', 'Exposure to Forces of Nature',
       'Diarrheal Diseases', 'Environmental Heat and Cold Exposure',
       'Neoplasms', 'Conflict and Terrorism', 'Diabetes Mellitus',
       'Chronic Kidney Disease', 'Poisonings', 'Protein-Energy Malnutrition',
       'Road Injuries', 'Chronic Respiratory Diseases',
       'Cirrhosis and Other Chronic Liver Diseases', 'Digestive Diseases',
       'Fire, Heat, and Hot Substances', 'Acute Hepatitis']]).sum()
country_totals=country_totals.reset_index()

#country_totals=country_totals.set_index("Country/Territory")
countries_df = pd.read_csv("Resources/countries.csv")

# Iterate through the values in the "Country/Territory" column of country_totals DataFrame
for country_name in country_totals["Country/Territory"]:
    # Check if the country name is in the countries DataFrame
    matching_row = countries_df[countries_df["name"] == country_name]
    # If there is a match, retrieve longitude and latitude
    if not matching_row.empty:
        country_longitude = matching_row["longitude"].values[0]
        country_latitude = matching_row["latitude"].values[0]
        # Update the country_totals DataFrame with longitude and latitude
        country_totals.loc[country_totals["Country/Territory"] == country_name, "Longitude"] = country_longitude
        country_totals.loc[country_totals["Country/Territory"] == country_name, "Latitude"] = country_latitude
                
country_totals.to_csv("results.csv", index=False)


map_plot = country_totals.hvplot.points("Longitude", "Latitude", geo = True, tiles = "OSM", frame_width = 800, frame_height = 600, hover_cols=['Malaria', 'Country/Territory'], size = "Malaria", scale = 0.010, color = "Country/Territory")

map_plot


# Is there any correlation between causes of death in a given area? Why?
#  Scatter plot for causes of death to each other by place, year ext.
    
