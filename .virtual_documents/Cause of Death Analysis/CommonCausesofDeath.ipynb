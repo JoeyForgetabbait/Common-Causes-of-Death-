


#import dependencies 
import pandas as pd
import hvplot.pandas
import geoviews as gv
import geoviews.tile_sources as gvts
import geopandas as gpd
from pathlib import Path
import numpy as np
import warnings
warnings.filterwarnings('ignore')
import matplotlib.pyplot as plt




#paths to csv data
Cause_df = 'Resources/cause_of_deaths.csv'
Aid_df = 'Resources/us_foreign_aid_country.csv'
pop_data_path="Resources/popdata.csv"

#reading csv data and creating dataframes out of it
Cause_df = pd.read_csv(Cause_df)
Aid_df = pd.read_csv(Aid_df)
pop_data_df=pd.read_csv(pop_data_path)
#changing year from int to str for merging
Cause_df['Year'] = Cause_df['Year'].astype(str)
pop_data_df['Year'] =pop_data_df['Year'].astype(str)
#rename columns for merge 
Aid_df = Aid_df.rename(columns = {'Country Code' : 'Code',
                                 'Fiscal Year' : 'Year',
                                 'Country Name' : 'Country/Territory',
                                 'current_amount':'Current Amount of Aid Given by US ($USD)',
                                  'constant_amount':'Constant Amount of Aid Given by US ($USD)',
                                 'Income Group Name':'Country Income Category'})

#obligation only transactoin type
Aid_df=Aid_df.loc[(Aid_df['Transaction Type Name']== 'Obligations')]

#Filtering aid_df
Aid_df=Aid_df[['Year','Country/Territory','Code','Country Income Category','Current Amount of Aid Given by US ($USD)','Constant Amount of Aid Given by US ($USD)']]


#merging
Cause_aid_df = Cause_df.merge(Aid_df, on = ['Code', 'Year', 'Country/Territory'])

Cause_aid_df.head()
cause_aid_pop_df=Cause_aid_df.merge(pop_data_df,on=['Code','Year'])

cause_aid_pop_df.to_csv('Resources/cause_aid_pop.csv')
cause_aid_pop_df.head()







cause_aid_pop_df.columns


#looking for most and least deadly from 1990-2019
top_deaths_df=cause_aid_pop_df[['Meningitis',
       "Alzheimer's Disease and Other Dementias", "Parkinson's Disease",
       'Nutritional Deficiencies', 'Malaria', 'Drowning',
       'Interpersonal Violence', 'Maternal Disorders', 'HIV/AIDS',
       'Drug Use Disorders', 'Tuberculosis', 'Cardiovascular Diseases',
       'Lower Respiratory Infections', 'Neonatal Disorders',
       'Alcohol Use Disorders', 'Self-harm', 'Exposure to Forces of Nature',
       'Diarrheal Diseases', 'Environmental Heat and Cold Exposure',
       'Neoplasms', 'Conflict and Terrorism', 'Diabetes Mellitus',
       'Chronic Kidney Disease', 'Poisonings', 'Protein-Energy Malnutrition',
       'Road Injuries', 'Chronic Respiratory Diseases',
       'Cirrhosis and Other Chronic Liver Diseases', 'Digestive Diseases',
       'Fire, Heat, and Hot Substances', 'Acute Hepatitis']].sum()

top_deaths_df=top_deaths_df.sort_values(ascending=False)
top_deaths_df.head()
top_deaths=top_deaths_df[:5]
display(top_deaths)
top_deaths.index



top_deaths.plot.pie(autopct='%1.1f%%')
plt.title('Top 5 Causes of Death Around the World from 1990-2019')
plt.show()


top_deaths.plot.bar()
plt.ylabel('# of Deaths')
plt.title('Top 5 Causes of Death Around the World from 1990-2019')
#https://www.reddit.com/r/learnpython/comments/el4vbx/how_to_remove_scientific_notation_from_a/
plt.gcf().axes[0].yaxis.get_major_formatter().set_scientific(False)
plt.show()



#least deadly causes of death 1990-2019
least_deaths_df=top_deaths_df.sort_values()
least_deaths_df.head()
least_deaths=least_deaths_df[:5]
display(least_deaths)
least_deaths.index



least_deaths.plot.pie(autopct='%1.1f%%')
plt.title('Top 5 Causes of Death Around the World from 1990-2019')
plt.show()


least_deaths.plot.bar()
plt.ylabel('# of Deaths')
plt.title('Top 5 Causes of Death Around the World from 1990-2019')
#https://www.reddit.com/r/learnpython/comments/el4vbx/how_to_remove_scientific_notation_from_a/
plt.gcf().axes[0].yaxis.get_major_formatter().set_scientific(False)
plt.show()


#top deaths per country
top_death_country=cause_aid_pop_df.groupby(['Code'])[['Cardiovascular Diseases', 'Neoplasms', 'Neonatal Disorders',
       'Lower Respiratory Infections', 'Diarrheal Diseases']].sum()
display(top_death_country)


#top deaths per country by year
top_death_country_year=cause_aid_pop_df.groupby(['Code','Year'])[['Cardiovascular Diseases', 'Neoplasms', 'Neonatal Disorders',
       'Lower Respiratory Infections', 'Diarrheal Diseases']].sum()
top_death_country_year


#bottom deaths per country 
bottom_death_country=cause_aid_pop_df.groupby(['Code'])[['Exposure to Forces of Nature', 'Environmental Heat and Cold Exposure',
       'Poisonings', 'Drug Use Disorders', 'Conflict and Terrorism']].sum()
display(bottom_death_country)


#bottom deaths per country by year
bottom_death_country_year=cause_aid_pop_df.groupby(['Code','Year'])[['Exposure to Forces of Nature', 'Environmental Heat and Cold Exposure',
       'Poisonings', 'Drug Use Disorders', 'Conflict and Terrorism']].sum()
bottom_death_country_year



#making a df for deaths per capita 
per_capita_death_df=cause_aid_pop_df[['Code','Year','Meningitis',
       "Alzheimer's Disease and Other Dementias", "Parkinson's Disease",
       'Nutritional Deficiencies', 'Malaria', 'Drowning',
       'Interpersonal Violence', 'Maternal Disorders', 'HIV/AIDS',
       'Drug Use Disorders', 'Tuberculosis', 'Cardiovascular Diseases',
       'Lower Respiratory Infections', 'Neonatal Disorders',
       'Alcohol Use Disorders', 'Self-harm', 'Exposure to Forces of Nature',
       'Diarrheal Diseases', 'Environmental Heat and Cold Exposure',
       'Neoplasms', 'Conflict and Terrorism', 'Diabetes Mellitus',
       'Chronic Kidney Disease', 'Poisonings', 'Protein-Energy Malnutrition',
       'Road Injuries', 'Chronic Respiratory Diseases',
       'Cirrhosis and Other Chronic Liver Diseases', 'Digestive Diseases',
       'Fire, Heat, and Hot Substances', 'Acute Hepatitis','Population']].set_index("Code")

#need to itterate over the columns and divide each death column by the population i would assume its some sort of for loop
# per_capita_death_df['Meningitis Death per Capita']=per_capita_death_df['Meningitis']/per_capita_death_df['Population']
display(per_capita_death_df)



#adding columns for death per capita for each cause of death and the data in those new columns
column_list=per_capita_death_df.columns.values
for column in column_list[1:(len(column_list)-1)]:
    per_capita_death_df[f'{column} Death per Capita']=per_capita_death_df[column]/per_capita_death_df['Population']*100




per_capita_death_df.columns


#create a new df with just death per capita stats
death_per_capita_df=per_capita_death_df[['Year','Meningitis Death per Capita',
       "Alzheimer's Disease and Other Dementias Death per Capita",
       "Parkinson's Disease Death per Capita",
       'Nutritional Deficiencies Death per Capita', 'Malaria Death per Capita',
       'Drowning Death per Capita', 'Interpersonal Violence Death per Capita',
       'Maternal Disorders Death per Capita', 'HIV/AIDS Death per Capita',
       'Drug Use Disorders Death per Capita', 'Tuberculosis Death per Capita',
       'Cardiovascular Diseases Death per Capita',
       'Lower Respiratory Infections Death per Capita',
       'Neonatal Disorders Death per Capita',
       'Alcohol Use Disorders Death per Capita', 'Self-harm Death per Capita',
       'Exposure to Forces of Nature Death per Capita',
       'Diarrheal Diseases Death per Capita',
       'Environmental Heat and Cold Exposure Death per Capita',
       'Neoplasms Death per Capita', 'Conflict and Terrorism Death per Capita',
       'Diabetes Mellitus Death per Capita',
       'Chronic Kidney Disease Death per Capita',
       'Poisonings Death per Capita',
       'Protein-Energy Malnutrition Death per Capita',
       'Road Injuries Death per Capita',
       'Chronic Respiratory Diseases Death per Capita',
       'Cirrhosis and Other Chronic Liver Diseases Death per Capita',
       'Digestive Diseases Death per Capita',
       'Fire, Heat, and Hot Substances Death per Capita',
       'Acute Hepatitis Death per Capita','Population']]
death_per_capita_df.head(5)



afg_death=death_per_capita_df.loc[(death_per_capita_df.index.values=='AFG')]
afg_death


top_deaths=['Year','Cardiovascular Diseases Death per Capita', 'Neoplasms Death per Capita', 'Neonatal Disorders Death per Capita',
       'Lower Respiratory Infections Death per Capita', 'Diarrheal Diseases Death per Capita']
afg_death_top=afg_death[top_deaths]
afg_death_top.astype(float)


# plot of the top 5 causes of death from 1990-2019 looking at it per capita this time in AFG
afg_death_top.plot(x='Year',title='Top 5 Causes of Death of AFG',figsize=(10,5)).legend(fontsize=8, loc="upper right")


# axes =afg_death_top.hist(['Cardiovascular Diseases Death per Capita','Neoplasms Death per Capita','Neonatal Disorders Death per Capita',
#        'Lower Respiratory Infections Death per Capita', 'Diarrheal Diseases Death per Capita'], by='Year')

plt.show()



#plot of the bottom 5 causes of death from 1990-2019 looking at it per capita this time in AFG
bottom_deaths=['Year','Exposure to Forces of Nature Death per Capita', 'Environmental Heat and Cold Exposure Death per Capita',
       'Poisonings Death per Capita', 'Drug Use Disorders Death per Capita', 'Conflict and Terrorism Death per Capita']
afg_death_bottom=afg_death[bottom_deaths].astype(float)
afg_death_bottom.plot(x='Year',title='Bottom 5 Causes of Death of AFG',figsize=(10,5)).legend(fontsize=7, loc="upper center")

plt.show()
                           
                           


usa_death=death_per_capita_df.loc[(death_per_capita_df.index.values=='USA')]
usa_death.sort_values('Year',inplace=True)


top_deaths=['Year','Cardiovascular Diseases Death per Capita', 'Neoplasms Death per Capita', 'Neonatal Disorders Death per Capita',
       'Lower Respiratory Infections Death per Capita', 'Diarrheal Diseases Death per Capita']
usa_death_top=usa_death[top_deaths].astype(float)
usa_death_top


usa_death_top.plot(x='Year',title='Top 5 Causes of Death of USA',figsize=(10,5)).legend(fontsize=8, loc="upper right")
plt.show()


usa_death_bottom=usa_death[bottom_deaths].astype(float)
usa_death_bottom


usa_death_bottom.plot(x='Year',title='Bottom 5 Causes of Death of USA',figsize=(10,5)).legend(fontsize=8, loc="upper left")
plt.show()


top_deaths


#plot of the top 5 causes of death from 1990-2019 looking at it per capita this time in AUT
aus_death=death_per_capita_df.loc[(death_per_capita_df.index.values=='AUT')]
aus_death_top=aus_death[top_deaths]
aus_death_top.astype(float)
aus_death_top.plot(x='Year',title='Top 5 Causes of Death of AUT',figsize=(10,5)).legend(fontsize=8, loc="upper right")
# aus_death.sort_values('Year',inplace=True)
# aus_death_top=aus_death[top_deaths].astype(float)
# top_aut=aus_death_top('AUT')
# top_aut.plot(x='Year',title='Top 5 Causes of Death in AUT').legend(fontsize=6, loc="best")
plt.show()



aus_death=death_per_capita_df.loc[(death_per_capita_df.index.values=='AUT')]
aus_death_bottom=aus_death[bottom_deaths]
aus_death_bottom.astype(float)
aus_death_bottom.plot(x='Year',title='Bottom 5 Causes of Death of AUT',figsize=(10,5)).legend(fontsize=8, loc="upper right")



country_totals = (cause_aid_pop_df.groupby(['Country/Territory','Code','Year'])[['Meningitis',
       "Alzheimer's Disease and Other Dementias", "Parkinson's Disease",
       'Nutritional Deficiencies', 'Malaria', 'Drowning',
       'Interpersonal Violence', 'Maternal Disorders', 'HIV/AIDS',
       'Drug Use Disorders', 'Tuberculosis', 'Cardiovascular Diseases',
       'Lower Respiratory Infections', 'Neonatal Disorders',
       'Alcohol Use Disorders', 'Self-harm', 'Exposure to Forces of Nature',
       'Diarrheal Diseases', 'Environmental Heat and Cold Exposure',
       'Neoplasms', 'Conflict and Terrorism', 'Diabetes Mellitus',
       'Chronic Kidney Disease', 'Poisonings', 'Protein-Energy Malnutrition',
       'Road Injuries', 'Chronic Respiratory Diseases',
       'Cirrhosis and Other Chronic Liver Diseases', 'Digestive Diseases',
       'Fire, Heat, and Hot Substances', 'Acute Hepatitis']]).sum()
country_totals=country_totals.reset_index()
#country_totals=country_totals.set_index("Country/Territory")
countries_df = pd.read_csv("Resources/countries.csv")
# Iterate through the values in the "Country/Territory" column of country_totals DataFrame
for country_name in country_totals["Country/Territory"]:
    # Check if the country name is in the countries DataFrame
    matching_row = countries_df[countries_df["name"] == country_name]
    
    # If there is a match, retrieve longitude and latitude
    if not matching_row.empty:
        country_longitude = matching_row["longitude"].values[0]
        country_latitude = matching_row["latitude"].values[0]
        
        # Update the country_totals DataFrame with longitude and latitude
        country_totals.loc[country_totals["Country/Territory"] == country_name, "longitude"] = country_longitude
        country_totals.loc[country_totals["Country/Territory"] == country_name, "latitude"] = country_latitude

country_totals=(country_totals.groupby(country_totals['Country/Territory'])[['Meningitis',
       "Alzheimer's Disease and Other Dementias", "Parkinson's Disease",
       'Nutritional Deficiencies', 'Malaria', 'Drowning',
       'Interpersonal Violence', 'Maternal Disorders', 'HIV/AIDS',
       'Drug Use Disorders', 'Tuberculosis', 'Cardiovascular Diseases',
       'Lower Respiratory Infections', 'Neonatal Disorders',
       'Alcohol Use Disorders', 'Self-harm', 'Exposure to Forces of Nature',
       'Diarrheal Diseases', 'Environmental Heat and Cold Exposure',
       'Neoplasms', 'Conflict and Terrorism', 'Diabetes Mellitus',
       'Chronic Kidney Disease', 'Poisonings', 'Protein-Energy Malnutrition',
       'Road Injuries', 'Chronic Respiratory Diseases',
       'Cirrhosis and Other Chronic Liver Diseases', 'Digestive Diseases',
       'Fire, Heat, and Hot Substances', 'Acute Hepatitis']]).sum()
countries_df=countries_df.rename(columns={"name":"Country/Territory"})
del countries_df["country"]
#map_df=pd.concat([country_totals
result=pd.merge(country_totals,countries_df,on="Country/Territory")
map_df=result.dropna()



map=map_df.hvplot.points(
    "longitude",
    "latitude",
    geo=True,
    tiles="OSM",
    c="Country/Territory",
    frame_height=600,
    hover_cols=['Country/Territory','Cardiovascular Diseases'],
    size='Cardiovascular Diseases',
    scale=0.010
)
# Display the map
map



year_df=cause_aid_pop_df.sort_values("Current Amount of Aid Given by US ($USD)",ascending=False)
top_5_countries=['Afghanistan', 'Iraq', 'Israel', 'Poland', 'Pakistan']
top_cause=['Cardiovascular Diseases', 'Neoplasms', 'Neonatal Disorders','Lower Respiratory Infections', 'Diarrheal Diseases']
country_df=year_df.loc[(year_df["Country/Territory"]=='Afghanistan') | (year_df["Country/Territory"]=='Iraq')|(year_df["Country/Territory"]=='Israel')|(year_df["Country/Territory"]=='Poland')|(year_df["Country/Territory"]=='Pakistan')]
us_df=year_df.loc[(year_df["Country/Territory"]=='United States')]
us_df=us_df[["Country/Territory","Year",'Cardiovascular Diseases', 'Neoplasms', 'Neonatal Disorders','Lower Respiratory Infections', 'Diarrheal Diseases']]
us_df=us_df.loc[(us_df["Year"]=='1990') | (us_df["Year"]=='1995') |(us_df["Year"]=='2000') | (us_df["Year"]=='2005') | (us_df["Year"]=='2010') | (us_df["Year"]=='2015')|(us_df["Year"]=='2019')]
us_df=us_df.sort_values("Year")
us_df=(us_df.groupby(["Year"])[['Cardiovascular Diseases', 'Neoplasms', 'Neonatal Disorders','Lower Respiratory Infections', 'Diarrheal Diseases']]).mean()
filter_top_df=country_df[["Country/Territory","Year",'Cardiovascular Diseases', 'Neoplasms', 'Neonatal Disorders','Lower Respiratory Infections', 'Diarrheal Diseases']]
filter_top_df=filter_top_df.loc[(filter_top_df["Year"]=='1990') | (filter_top_df["Year"]=='1995') |(filter_top_df["Year"]=='2000') | (filter_top_df["Year"]=='2005') | (filter_top_df["Year"]=='2010') | (filter_top_df["Year"]=='2015')|(filter_top_df["Year"]=='2019')]
top_aid_df=(filter_top_df.groupby(["Country/Territory","Year"])[['Cardiovascular Diseases', 'Neoplasms', 'Neonatal Disorders','Lower Respiratory Infections', 'Diarrheal Diseases']]).mean()

year_df1=cause_aid_pop_df.sort_values("Current Amount of Aid Given by US ($USD)")
bottom_5_countries=['Nicaragua', 'Japan', 'Eritrea', 'Armenia', 'Cyprus']
bcountry_df=year_df.loc[(year_df1["Country/Territory"]=='Nicaragua') | (year_df["Country/Territory"]=='Japan')|(year_df["Country/Territory"]=='Eritrea')|(year_df["Country/Territory"]=='Armenia')|(year_df["Country/Territory"]=='Cyprus')]
filter_bottom_df=bcountry_df[["Country/Territory","Year",'Cardiovascular Diseases', 'Neoplasms', 'Neonatal Disorders','Lower Respiratory Infections', 'Diarrheal Diseases']]
filter_bottom_df=filter_bottom_df.loc[(filter_bottom_df["Year"]=='1990') | (filter_bottom_df["Year"]=='1995') |(filter_bottom_df["Year"]=='2000') | (filter_bottom_df["Year"]=='2005') | (filter_bottom_df["Year"]=='2010') | (filter_bottom_df["Year"]=='2015')|(filter_bottom_df["Year"]=='2019')]
bottom_aid_df=(filter_bottom_df.groupby(["Country/Territory","Year"])[['Cardiovascular Diseases', 'Neoplasms', 'Neonatal Disorders','Lower Respiratory Infections', 'Diarrheal Diseases']]).mean()

plt.figure(figsize=(15,4))
ax = plt.subplot(121)
top_aid_df.plot.bar(stacked=True, ax=ax,title="Average Top Cause Death rate in High Aid Receving Countries Over Years",ylabel="Average Deaths")
ax = plt.subplot(122)
bottom_aid_df.plot.bar(stacked=True, ax=ax,title="Average Top Cause Death rate in Low Aid Receving Countries Over Years",ylabel="Average Deaths")
plt.show()



year_df=cause_aid_pop_df.sort_values("Current Amount of Aid Given by US ($USD)",ascending=False)
top_5_countries=['Afghanistan', 'Iraq', 'Israel', 'Poland', 'Pakistan']
bottom_cause=['Exposure to Forces of Nature', 'Environmental Heat and Cold Exposure','Poisonings', 'Drug Use Disorders', 'Conflict and Terrorism']
country_df=year_df.loc[(year_df["Country/Territory"]=='Afghanistan') | (year_df["Country/Territory"]=='Iraq')|(year_df["Country/Territory"]=='Israel')|(year_df["Country/Territory"]=='Poland')|(year_df["Country/Territory"]=='Pakistan')]
us_df=year_df.loc[(year_df["Country/Territory"]=='United States')]
us_df=us_df[["Country/Territory","Year",'Exposure to Forces of Nature', 'Environmental Heat and Cold Exposure','Poisonings', 'Drug Use Disorders', 'Conflict and Terrorism']]
us_df=us_df.loc[(us_df["Year"]=='1990') | (us_df["Year"]=='1995') |(us_df["Year"]=='2000') | (us_df["Year"]=='2005') | (us_df["Year"]=='2010') | (us_df["Year"]=='2015')|(us_df["Year"]=='2019')]
us_df=us_df.sort_values("Year")
us_df=(us_df.groupby(["Year"])[['Exposure to Forces of Nature', 'Environmental Heat and Cold Exposure','Poisonings', 'Drug Use Disorders', 'Conflict and Terrorism']]).mean()
filter_top_df=country_df[["Country/Territory","Year",'Exposure to Forces of Nature', 'Environmental Heat and Cold Exposure','Poisonings', 'Drug Use Disorders', 'Conflict and Terrorism']]
filter_top_df=filter_top_df.loc[(filter_top_df["Year"]=='1990') | (filter_top_df["Year"]=='1995') |(filter_top_df["Year"]=='2000') | (filter_top_df["Year"]=='2005') | (filter_top_df["Year"]=='2010') | (filter_top_df["Year"]=='2015')|(filter_top_df["Year"]=='2019')]
top_aid_df=(filter_top_df.groupby(["Country/Territory","Year"])[['Exposure to Forces of Nature', 'Environmental Heat and Cold Exposure','Poisonings', 'Drug Use Disorders', 'Conflict and Terrorism']]).mean()

year_df1=cause_aid_pop_df.sort_values("Current Amount of Aid Given by US ($USD)")
bottom_5_countries=['Nicaragua', 'Japan', 'Eritrea', 'Armenia', 'Cyprus']
bcountry_df=year_df.loc[(year_df1["Country/Territory"]=='Nicaragua') | (year_df["Country/Territory"]=='Japan')|(year_df["Country/Territory"]=='Eritrea')|(year_df["Country/Territory"]=='Armenia')|(year_df["Country/Territory"]=='Cyprus')]
filter_bottom_df=bcountry_df[["Country/Territory","Year",'Exposure to Forces of Nature', 'Environmental Heat and Cold Exposure','Poisonings', 'Drug Use Disorders', 'Conflict and Terrorism']]
filter_bottom_df=filter_bottom_df.loc[(filter_bottom_df["Year"]=='1990') | (filter_bottom_df["Year"]=='1995') |(filter_bottom_df["Year"]=='2000') | (filter_bottom_df["Year"]=='2005') | (filter_bottom_df["Year"]=='2010') | (filter_bottom_df["Year"]=='2015')|(filter_bottom_df["Year"]=='2019')]
bottom_aid_df=(filter_bottom_df.groupby(["Country/Territory","Year"])[['Exposure to Forces of Nature', 'Environmental Heat and Cold Exposure','Poisonings', 'Drug Use Disorders', 'Conflict and Terrorism']]).mean()

plt.figure(figsize=(15,4))
ax = plt.subplot(121)
top_aid_df.plot.bar(stacked=True, ax=ax,title="Average Least Cause Death rate in High Aid Receving Countries Over Years",ylabel="Average Deaths")
ax = plt.subplot(122)
bottom_aid_df.plot.bar(stacked=True, ax=ax,title="Average Least Cause Death rate in Low Aid Receving Countries Over Years",ylabel="Average Deaths")
plt.show()








# Questions to Answer:
# What are the most common causes of death internationally? - look at least common causes too, just to see if we can make any inferences from that. 
# Death totals(most / least common) - normalize it to the population
# Line plot for time vs cause of death amount in certain # of nations
# Look at the US vs other places specifically, too.
# Compare the US to other countries
# Histogram to scale most prevalent causes of death 
# Box plot looking at variance 





# Where are those most common causes occurring (maybe just look at a few?)
# Geoapify graph?
# Most comm
#  Bar plot, 


 
# How does a certain disease/cause of death trend year over year?
# Line graph
# Scatter plot for various correlations regarding C.O.D. by year, decade, in x# of nations.. 


#What outside events may have influenced those causes of death?
# Availability of aid?
# Medical resources
# Water-related illness
# Geoapify map (malaria is easy to show geographical differences)
# Geoapify map for the amount of aid provided to the nations with the unique causes of death that may have been mitigated by aid 


# Is there any correlation between causes of death in a given area? Why?
#  Scatter plot for causes of death to each other by place, year ext.
    
