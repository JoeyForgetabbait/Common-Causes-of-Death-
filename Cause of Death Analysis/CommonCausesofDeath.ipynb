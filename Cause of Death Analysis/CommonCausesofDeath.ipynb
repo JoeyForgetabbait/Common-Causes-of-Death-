{
 "cells": [
  {
   "cell_type": "markdown",
   "id": "ced21319-9374-4d28-95c7-d57e193390c3",
   "metadata": {},
   "source": [
    "## Common Causes of Death Analysis \n",
    "#Justin, Thomas, Karuna, Joseph, Harleen and Grant!"
   ]
  },
  {
   "cell_type": "code",
   "execution_count": 5,
   "id": "7ea67db9-46dd-4c5a-8ec7-4fa99b161b73",
   "metadata": {
    "tags": []
   },
   "outputs": [],
   "source": [
    "#import dependencies \n",
    "import pandas as pd\n",
    "from pathlib import Path\n",
    "import numpy as np\n",
    "import matplotlib as plt\n",
    "\n"
   ]
  },
  {
   "cell_type": "code",
   "execution_count": 2,
   "id": "67445c68-1a10-4cf3-b3c9-a1820c209917",
   "metadata": {
    "tags": []
   },
   "outputs": [
    {
     "data": {
      "text/plain": [
       "Index(['Country/Territory', 'Code', 'Year', 'Meningitis',\n",
       "       'Alzheimer's Disease and Other Dementias', 'Parkinson's Disease',\n",
       "       'Nutritional Deficiencies', 'Malaria', 'Drowning',\n",
       "       'Interpersonal Violence', 'Maternal Disorders', 'HIV/AIDS',\n",
       "       'Drug Use Disorders', 'Tuberculosis', 'Cardiovascular Diseases',\n",
       "       'Lower Respiratory Infections', 'Neonatal Disorders',\n",
       "       'Alcohol Use Disorders', 'Self-harm', 'Exposure to Forces of Nature',\n",
       "       'Diarrheal Diseases', 'Environmental Heat and Cold Exposure',\n",
       "       'Neoplasms', 'Conflict and Terrorism', 'Diabetes Mellitus',\n",
       "       'Chronic Kidney Disease', 'Poisonings', 'Protein-Energy Malnutrition',\n",
       "       'Road Injuries', 'Chronic Respiratory Diseases',\n",
       "       'Cirrhosis and Other Chronic Liver Diseases', 'Digestive Diseases',\n",
       "       'Fire, Heat, and Hot Substances', 'Acute Hepatitis', 'Region ID',\n",
       "       'Region Name', 'Income Group Acronym', 'Income Group Name',\n",
       "       'Transaction Type ID', 'Transaction Type Name', 'current_amount',\n",
       "       'constant_amount', 'Population'],\n",
       "      dtype='object')"
      ]
     },
     "execution_count": 2,
     "metadata": {},
     "output_type": "execute_result"
    }
   ],
   "source": [
    "#paths to csv data\n",
    "Cause_df = 'Resources/cause_of_deaths.csv'\n",
    "Aid_df = 'Resources/us_foreign_aid_country.csv'\n",
    "pop_data_path=\"Resources/popdata.csv\"\n",
    "\n",
    "#reading csv data and creating dataframes out of it\n",
    "Cause_df = pd.read_csv(Cause_df)\n",
    "Aid_df = pd.read_csv(Aid_df)\n",
    "pop_data_df=pd.read_csv(pop_data_path)\n",
    "#changing year from int to str for merging\n",
    "Cause_df['Year'] = Cause_df['Year'].astype(str)\n",
    "pop_data_df['Year'] =pop_data_df['Year'].astype(str)\n",
    "#rename columns for merge \n",
    "Aid_df = Aid_df.rename(columns = {'Country Code' : 'Code',\n",
    "                                 'Fiscal Year' : 'Year',\n",
    "                                 'Country Name' : 'Country/Territory'})\n",
    "Aid_df\n",
    "#obligation only transactoin type\n",
    "Aid_df=Aid_df.loc[(Aid_df['Transaction Type Name']== 'Obligations')]\n",
    "\n",
    "#merging\n",
    "Cause_aid_df = Cause_df.merge(Aid_df, on = ['Code', 'Year', 'Country/Territory'])\n",
    "Cause_aid_df.head()\n",
    "cause_aid_pop_df=Cause_aid_df.merge(pop_data_df,on=['Code','Year'])\n",
    "\n",
    "cause_aid_pop_df.to_csv('Resources/Output.csv')\n",
    "cause_aid_pop_df.head()\n",
    "cause_aid_pop_df.columns"
   ]
  },
  {
   "cell_type": "code",
   "execution_count": 3,
   "id": "df7aaac0-fc37-4858-85cc-538f115303ac",
   "metadata": {
    "tags": []
   },
   "outputs": [
    {
     "data": {
      "text/plain": [
       "Cardiovascular Diseases         305598624\n",
       "Neoplasms                       142008849\n",
       "Neonatal Disorders               68820123\n",
       "Lower Respiratory Infections     68227438\n",
       "Diarrheal Diseases               62439459\n",
       "dtype: int64"
      ]
     },
     "execution_count": 3,
     "metadata": {},
     "output_type": "execute_result"
    }
   ],
   "source": [
    "#looking for most and least deadly from 1990-2019\n",
    "top_deaths_df=cause_aid_pop_df[['Meningitis',\n",
    "       \"Alzheimer's Disease and Other Dementias\", \"Parkinson's Disease\",\n",
    "       'Nutritional Deficiencies', 'Malaria', 'Drowning',\n",
    "       'Interpersonal Violence', 'Maternal Disorders', 'HIV/AIDS',\n",
    "       'Drug Use Disorders', 'Tuberculosis', 'Cardiovascular Diseases',\n",
    "       'Lower Respiratory Infections', 'Neonatal Disorders',\n",
    "       'Alcohol Use Disorders', 'Self-harm', 'Exposure to Forces of Nature',\n",
    "       'Diarrheal Diseases', 'Environmental Heat and Cold Exposure',\n",
    "       'Neoplasms', 'Conflict and Terrorism', 'Diabetes Mellitus',\n",
    "       'Chronic Kidney Disease', 'Poisonings', 'Protein-Energy Malnutrition',\n",
    "       'Road Injuries', 'Chronic Respiratory Diseases',\n",
    "       'Cirrhosis and Other Chronic Liver Diseases', 'Digestive Diseases',\n",
    "       'Fire, Heat, and Hot Substances', 'Acute Hepatitis']].sum()\n",
    "\n",
    "top_deaths_df=top_deaths_df.sort_values(ascending=False)\n",
    "least_deaths_df=top_deaths_df.sort_values()\n",
    "top_deaths_df.head()\n"
   ]
  },
  {
   "cell_type": "code",
   "execution_count": 4,
   "id": "3e012e91-4a82-40f2-87b2-b70334f6a4ef",
   "metadata": {
    "tags": []
   },
   "outputs": [
    {
     "data": {
      "text/plain": [
       "Exposure to Forces of Nature            1144268\n",
       "Environmental Heat and Cold Exposure    1502732\n",
       "Poisonings                              1649724\n",
       "Drug Use Disorders                      1846550\n",
       "Conflict and Terrorism                  2645144\n",
       "dtype: int64"
      ]
     },
     "execution_count": 4,
     "metadata": {},
     "output_type": "execute_result"
    }
   ],
   "source": [
    "#least deadly causes of death 1990-2019\n",
    "least_deaths_df.head()"
   ]
  },
  {
   "cell_type": "code",
   "execution_count": 9,
   "id": "daced1a2-9799-4c19-b753-b64f1e817feb",
   "metadata": {},
   "outputs": [],
   "source": [
    "\n",
    "# Questions to Answer:\n",
    "# What are the most common causes of death internationally? - look at least common causes too, just to see if we can make any inferences from that. \n",
    "# Death totals(most / least common) - normalize it to the population\n",
    "# Line plot for time vs cause of death amount in certain # of nations\n",
    "# Look at the US vs other places specifically, too.\n",
    "# Compare the US to other countries\n",
    "# Histogram to scale most prevalent causes of death \n",
    "# Box plot looking at variance \n",
    "\n"
   ]
  },
  {
   "cell_type": "code",
   "execution_count": 10,
   "id": "124c6dbc-13df-40a4-a0b6-5a7da4a877a8",
   "metadata": {},
   "outputs": [
    {
     "ename": "SyntaxError",
     "evalue": "invalid syntax (1359926905.py, line 1)",
     "output_type": "error",
     "traceback": [
      "\u001b[0;36m  Cell \u001b[0;32mIn[10], line 1\u001b[0;36m\u001b[0m\n\u001b[0;31m    -\u001b[0m\n\u001b[0m      ^\u001b[0m\n\u001b[0;31mSyntaxError\u001b[0m\u001b[0;31m:\u001b[0m invalid syntax\n"
     ]
    }
   ],
   "source": [
    "\t- \n",
    "# Where are those most common causes occurring (maybe just look at a few?)\n",
    "# Geoapify graph?\n",
    "# Most comm\n",
    "#  Bar plot, "
   ]
  },
  {
   "cell_type": "code",
   "execution_count": null,
   "id": "d59a3169-8418-4636-98cd-9276e9cc87b2",
   "metadata": {},
   "outputs": [],
   "source": [
    " \n",
    "# How does a certain disease/cause of death trend year over year?\n",
    "# Line graph\n",
    "# Scatter plot for various correlations regarding C.O.D. by year, decade, in x# of nations.. "
   ]
  },
  {
   "cell_type": "code",
   "execution_count": null,
   "id": "b931c575-68fb-4557-a17d-b4eb881536a3",
   "metadata": {},
   "outputs": [],
   "source": [
    "#What outside events may have influenced those causes of death?\n",
    "# Availability of aid?\n",
    "# Medical resources\n",
    "# Water-related illness\n",
    "# Geoapify map (malaria is easy to show geographical differences)\n",
    "# Geoapify map for the amount of aid provided to the nations with the unique causes of death that may have been mitigated by aid "
   ]
  },
  {
   "cell_type": "code",
   "execution_count": null,
   "id": "5e54e722-5f27-4852-8930-bb6a7f6b2b0c",
   "metadata": {},
   "outputs": [],
   "source": [
    "# Is there any correlation between causes of death in a given area? Why?\n",
    "#  Scatter plot for causes of death to each other by place, year ext.\n",
    "    "
   ]
  }
 ],
 "metadata": {
  "kernelspec": {
   "display_name": "Python 3 (ipykernel)",
   "language": "python",
   "name": "python3"
  },
  "language_info": {
   "codemirror_mode": {
    "name": "ipython",
    "version": 3
   },
   "file_extension": ".py",
   "mimetype": "text/x-python",
   "name": "python",
   "nbconvert_exporter": "python",
   "pygments_lexer": "ipython3",
   "version": "3.10.13"
  }
 },
 "nbformat": 4,
 "nbformat_minor": 5
}
